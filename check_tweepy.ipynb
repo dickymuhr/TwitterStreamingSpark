{
 "cells": [
  {
   "cell_type": "code",
   "execution_count": 5,
   "metadata": {},
   "outputs": [],
   "source": [
    "import tweepy\n",
    "import pandas as pd\n"
   ]
  },
  {
   "cell_type": "code",
   "execution_count": 6,
   "metadata": {},
   "outputs": [],
   "source": [
    "ACCESS_TOKEN = \"\"\n",
    "ACCESS_SECRET = \"\"\n",
    "CONSUMER_KEY = \"\"\n",
    "CONSUMER_SECRET = \"\""
   ]
  },
  {
   "cell_type": "code",
   "execution_count": 4,
   "metadata": {},
   "outputs": [],
   "source": [
    "# authentication\n",
    "auth = tweepy.OAuthHandler(CONSUMER_KEY, CONSUMER_SECRET)\n",
    "auth.set_access_token(ACCESS_TOKEN, ACCESS_SECRET)\n",
    "\n",
    "api = tweepy.API(auth)"
   ]
  },
  {
   "cell_type": "code",
   "execution_count": 7,
   "metadata": {},
   "outputs": [],
   "source": [
    "class Linstener(tweepy.Stream):\n",
    "\n",
    "    tweets = []\n",
    "    limit = 10\n",
    "\n",
    "    def on_status(self, status):\n",
    "        msg = \"\"\n",
    "        if not status.truncated:\n",
    "            msg = status.text\n",
    "        else:\n",
    "            msg = status.extended_tweet['full_text']\n",
    "        self.tweets.append(msg)\n",
    "        print(msg.encode('utf-8'))\n",
    "        if len(self.tweets) == self.limit:\n",
    "            self.disconnect()"
   ]
  },
  {
   "cell_type": "code",
   "execution_count": 8,
   "metadata": {},
   "outputs": [],
   "source": [
    "stream_tweet = Linstener(CONSUMER_KEY, CONSUMER_SECRET, ACCESS_TOKEN, ACCESS_SECRET)"
   ]
  },
  {
   "cell_type": "code",
   "execution_count": 9,
   "metadata": {},
   "outputs": [
    {
     "name": "stdout",
     "output_type": "stream",
     "text": [
      "b'RT @TheAthleticUK: The story of the Kanjuruhan Stadium disaster: panic, grief and the search for justice.\\n\\n@AdamLeventhal joined @markchapm\\xe2\\x80\\xa6'\n",
      "b'RT @detikcom: Korban Tragedi Kanjuruhan meninggal bertambah jadi 132. Helen Prisela sempat dirawat lebih 10 hari. Helen berjuang sembuh seb\\xe2\\x80\\xa6'\n",
      "b'RT @DrEvaChaniago: Kalau yg nembakkin gas air mata shg penonton panik berhamburan menyelamatkan diri &amp; terjadi korban adalah para supporter\\xe2\\x80\\xa6'\n",
      "b'@TMCPoldaMetro @DivHumas_Polri @HumasPoldaJatim'\n",
      "b'RT @geloraco: Duh! Polisi Kena Skakmat Jurnalis Asing Gegara Klaim Gas Air Mata Tak Sebabkan Tragedi Kanjuruhan\\nhttps://t.co/RmYwmXGavn'\n",
      "b'RT @EbesMuis: Dunanges moco iki\\xf0\\x9f\\xa5\\xb2'\n",
      "b'RT @Mythicalforest: https://t.co/K7MK4XAzWg\\n\\nKorban dan saksi pembunuhan massal di Kanjuruhan minta perlindungan LPSK. Artinya ada teror da\\xe2\\x80\\xa6'\n",
      "b'RT @detikcom: Tim dokter sudah berupaya membantu memulihkan Helen Pricela, korban tragedi Kanjuruhan. Namun dia hanya mampu bertahan 10 har\\xe2\\x80\\xa6'\n",
      "b'RT @detikcom: Total 48 tembakan dengan lebih dari 66 peluru gas air mata yang dilepaskan polisi di Stadion Kanjuruhan. Satu peluru diduga p\\xe2\\x80\\xa6'\n",
      "b'RT @detikcom: Tim dokter sudah berupaya membantu memulihkan Helen Pricela, korban tragedi Kanjuruhan. Namun dia hanya mampu bertahan 10 har\\xe2\\x80\\xa6'\n",
      "b'Dilupakan polri, ini penyebab utama kematian suporter Arema tragedi Kanjuruhan\\nVideo :\\nhttps://t.co/xFMX35TyyU\\n\\nPT LIB | Indosiar | PSSI | Wasit | cctv Kanjuruhan | Lesti | Billar'\n",
      "b'RT @panditfootball: Bukti kekacauan sepakbola Indonesia tercermin dari kelakuan otoritas-otoritas yang terlibat di dalam Tragedi Kanjuruhan\\xe2\\x80\\xa6'\n",
      "b'RT @kitabisacom: Annyeonghaseyo ARMY Indonesia &amp; #OrangBaik, aku mau kasih kabar baik nih!\\n\\nKemarin, hasil patungan kamu bareng temen-temen\\xe2\\x80\\xa6'\n",
      "b'RT @CNNIndonesia: 19 Saksi dan Korban Kanjuruhan Minta Perlindungan LPSK https://t.co/ed8YSjMj1M'\n",
      "b\"RT @tijabar: Helen Prisela Korban Meninggal Ke-132 Tragedi Kanjuruhan \\xf0\\x9f\\x98\\xa2\\xf0\\x9f\\x98\\xa2\\xf0\\x9f\\x98\\xa2\\n\\nInna lillahi wa inna ilaihi raji'un. \\nHelen (20) asal Banjar Pat\\xe2\\x80\\xa6\"\n",
      "b'RT @panditfootball: Bukti kekacauan sepakbola Indonesia tercermin dari kelakuan otoritas-otoritas yang terlibat di dalam Tragedi Kanjuruhan\\xe2\\x80\\xa6'\n",
      "b'@tsetiady Dilupakan polri, ini penyebab utama kematian suporter Arema tragedi Kanjuruhan\\nVideo :\\nhttps://t.co/xFMX35TyyU'\n",
      "b'RT @detikcom: PT LIB mengaku jam tayang laga Arema FC Vs Persebaya yang berujung Tragedi Kanjuruhan merupakan permintaan Indosiar selaku br\\xe2\\x80\\xa6'\n",
      "b'RT @AREMA1986Merch: Pray For Kanjuruhan'\n",
      "b'RT @CNNIndonesia: Korban Meninggal Tragedi Kanjuruhan Bertambah Jadi 132 Orang https://t.co/nK7PngEGHu'\n",
      "b'Kacau...\\nMereka saling lempar tanggungjawab atas tragedi Kanjuruhan.\\n\\n#PSSI #pssiwajibtanggungjawab #ligadagelan #ligakacau #briliga1'\n",
      "b'@MafiaWasit Dilupakan polri, ini penyebab utama kematian suporter Arema tragedi Kanjuruhan\\nVideo :\\nhttps://t.co/xFMX35TyyU'\n",
      "b'\"Trauma karena gas air mata sama desak-desakan, panik karena ramainya\"\\n\\nhttps://t.co/man014NCqW'\n",
      "b'RT @OposisiCerdas: Nisa, Saguanto hingga Febi Jadi Korban Hidup, Polisi Masih Klaim Tragedi Kanjuruhan Bukan karena Gas Air Mata?\\nhttps://t\\xe2\\x80\\xa6'\n",
      "b'RT @zenrs: Ngilu bener. Para penyintas sampai minta perlindungan negara. 19 orang ini mayoritas adalah saksi korban, mereka ini mayoritas a\\xe2\\x80\\xa6'\n",
      "b'RT @maspiyuaja: MENGERIKAN... !!! Jejak Bahan Kimia di Mata Nisa dan Saguanto setelah Tragedi Kanjuruhan https://t.co/7f2vYmhOAQ https://t.\\xe2\\x80\\xa6'\n",
      "b'RT @soviwakhidah: Prei prei nggak nonton balbalan sek.'\n",
      "b'RT @detikcom: Tim dokter sudah berupaya membantu memulihkan Helen Pricela, korban tragedi Kanjuruhan. Namun dia hanya mampu bertahan 10 har\\xe2\\x80\\xa6'\n",
      "b'bener2 pada lempar lemparan tanggung jawab'\n",
      "b'Pencopotan Kapolres Malang dan Kapolda Jatim pun tidak bisa dibaca sebagai konskuensi tanggung jawab pada tragedi Kanjuruhan https://t.co/ib0olMeWyV'\n",
      "b'@iIhamzada Dilupakan polri, ini penyebab utama kematian suporter Arema tragedi Kanjuruhan\\nVideo :\\nhttps://t.co/xFMX35TyyU'\n",
      "b'RT @famajiid: Gak sekalian aja bilang, mereka tewas karena dicabut nyawa oleh malaikat maut. Kalau mau lepas tanggung jawab, gak usah nangg\\xe2\\x80\\xa6'\n",
      "b'RT @panditfootball: Bukti kekacauan sepakbola Indonesia tercermin dari kelakuan otoritas-otoritas yang terlibat di dalam Tragedi Kanjuruhan\\xe2\\x80\\xa6'\n",
      "b'RT @KompasTV: Tim Gabungan Independen Pencari Fakta (TGIPF) ungkap momen mengerikan dari Tragedi Kanjuruhan khususnya di Pintu 13 Stadion K\\xe2\\x80\\xa6'\n",
      "b'RT @panditfootball: Bukti kekacauan sepakbola Indonesia tercermin dari kelakuan otoritas-otoritas yang terlibat di dalam Tragedi Kanjuruhan\\xe2\\x80\\xa6'\n",
      "b'ok skrg kita reka ulang smua plokis berdiri di tribun Kanjuruhan trs ditembakin gas air mata sm sipil plus pintunya ditutup'\n",
      "b'RT @panditfootball: Bukti kekacauan sepakbola Indonesia tercermin dari kelakuan otoritas-otoritas yang terlibat di dalam Tragedi Kanjuruhan\\xe2\\x80\\xa6'\n",
      "b'RT @secgron: Dari @washingtonpost: 40 gas air mata ditembakkan. Dibantah,  hanya 11 katanya. Lalu keluar teaser dari @NarasiNewsroom yg mem\\xe2\\x80\\xa6'\n",
      "b'RT @zenrs: Ngilu bener. Para penyintas sampai minta perlindungan negara. 19 orang ini mayoritas adalah saksi korban, mereka ini mayoritas a\\xe2\\x80\\xa6'\n"
     ]
    },
    {
     "ename": "KeyboardInterrupt",
     "evalue": "",
     "output_type": "error",
     "traceback": [
      "\u001b[1;31m---------------------------------------------------------------------------\u001b[0m",
      "\u001b[1;31mKeyboardInterrupt\u001b[0m                         Traceback (most recent call last)",
      "Cell \u001b[1;32mIn [9], line 4\u001b[0m\n\u001b[0;32m      1\u001b[0m \u001b[39m# stream by keywords\u001b[39;00m\n\u001b[0;32m      2\u001b[0m keywords \u001b[39m=\u001b[39m [\u001b[39m'\u001b[39m\u001b[39mkanjuruhan\u001b[39m\u001b[39m'\u001b[39m]\n\u001b[1;32m----> 4\u001b[0m stream_tweet\u001b[39m.\u001b[39;49mfilter(track\u001b[39m=\u001b[39;49mkeywords)\n",
      "File \u001b[1;32mc:\\Users\\62898\\miniconda3\\lib\\site-packages\\tweepy\\streaming.py:372\u001b[0m, in \u001b[0;36mStream.filter\u001b[1;34m(self, follow, track, locations, filter_level, languages, stall_warnings, threaded)\u001b[0m\n\u001b[0;32m    369\u001b[0m     \u001b[39mreturn\u001b[39;00m \u001b[39mself\u001b[39m\u001b[39m.\u001b[39m_threaded_connect(method, endpoint, headers\u001b[39m=\u001b[39mheaders,\n\u001b[0;32m    370\u001b[0m                                   body\u001b[39m=\u001b[39mbody)\n\u001b[0;32m    371\u001b[0m \u001b[39melse\u001b[39;00m:\n\u001b[1;32m--> 372\u001b[0m     \u001b[39mself\u001b[39;49m\u001b[39m.\u001b[39;49m_connect(method, endpoint, headers\u001b[39m=\u001b[39;49mheaders, body\u001b[39m=\u001b[39;49mbody)\n",
      "File \u001b[1;32mc:\\Users\\62898\\miniconda3\\lib\\site-packages\\tweepy\\streaming.py:279\u001b[0m, in \u001b[0;36mStream._connect\u001b[1;34m(self, method, endpoint, **kwargs)\u001b[0m\n\u001b[0;32m    276\u001b[0m auth \u001b[39m=\u001b[39m OAuth1(\u001b[39mself\u001b[39m\u001b[39m.\u001b[39mconsumer_key, \u001b[39mself\u001b[39m\u001b[39m.\u001b[39mconsumer_secret,\n\u001b[0;32m    277\u001b[0m               \u001b[39mself\u001b[39m\u001b[39m.\u001b[39maccess_token, \u001b[39mself\u001b[39m\u001b[39m.\u001b[39maccess_token_secret)\n\u001b[0;32m    278\u001b[0m url \u001b[39m=\u001b[39m \u001b[39mf\u001b[39m\u001b[39m\"\u001b[39m\u001b[39mhttps://stream.twitter.com/1.1/\u001b[39m\u001b[39m{\u001b[39;00mendpoint\u001b[39m}\u001b[39;00m\u001b[39m.json\u001b[39m\u001b[39m\"\u001b[39m\n\u001b[1;32m--> 279\u001b[0m \u001b[39msuper\u001b[39m()\u001b[39m.\u001b[39m_connect(method, url, auth\u001b[39m=\u001b[39mauth, \u001b[39m*\u001b[39m\u001b[39m*\u001b[39mkwargs)\n",
      "File \u001b[1;32mc:\\Users\\62898\\miniconda3\\lib\\site-packages\\tweepy\\streaming.py:87\u001b[0m, in \u001b[0;36mBaseStream._connect\u001b[1;34m(self, method, url, auth, params, headers, body)\u001b[0m\n\u001b[0;32m     84\u001b[0m \u001b[39mif\u001b[39;00m \u001b[39mnot\u001b[39;00m \u001b[39mself\u001b[39m\u001b[39m.\u001b[39mrunning:\n\u001b[0;32m     85\u001b[0m     \u001b[39mbreak\u001b[39;00m\n\u001b[1;32m---> 87\u001b[0m \u001b[39mfor\u001b[39;00m line \u001b[39min\u001b[39;00m resp\u001b[39m.\u001b[39miter_lines(\n\u001b[0;32m     88\u001b[0m     chunk_size\u001b[39m=\u001b[39m\u001b[39mself\u001b[39m\u001b[39m.\u001b[39mchunk_size\n\u001b[0;32m     89\u001b[0m ):\n\u001b[0;32m     90\u001b[0m     \u001b[39mif\u001b[39;00m line:\n\u001b[0;32m     91\u001b[0m         \u001b[39mself\u001b[39m\u001b[39m.\u001b[39mon_data(line)\n",
      "File \u001b[1;32mc:\\Users\\62898\\miniconda3\\lib\\site-packages\\requests\\models.py:865\u001b[0m, in \u001b[0;36mResponse.iter_lines\u001b[1;34m(self, chunk_size, decode_unicode, delimiter)\u001b[0m\n\u001b[0;32m    856\u001b[0m \u001b[39m\"\"\"Iterates over the response data, one line at a time.  When\u001b[39;00m\n\u001b[0;32m    857\u001b[0m \u001b[39mstream=True is set on the request, this avoids reading the\u001b[39;00m\n\u001b[0;32m    858\u001b[0m \u001b[39mcontent at once into memory for large responses.\u001b[39;00m\n\u001b[0;32m    859\u001b[0m \n\u001b[0;32m    860\u001b[0m \u001b[39m.. note:: This method is not reentrant safe.\u001b[39;00m\n\u001b[0;32m    861\u001b[0m \u001b[39m\"\"\"\u001b[39;00m\n\u001b[0;32m    863\u001b[0m pending \u001b[39m=\u001b[39m \u001b[39mNone\u001b[39;00m\n\u001b[1;32m--> 865\u001b[0m \u001b[39mfor\u001b[39;00m chunk \u001b[39min\u001b[39;00m \u001b[39mself\u001b[39m\u001b[39m.\u001b[39miter_content(\n\u001b[0;32m    866\u001b[0m     chunk_size\u001b[39m=\u001b[39mchunk_size, decode_unicode\u001b[39m=\u001b[39mdecode_unicode\n\u001b[0;32m    867\u001b[0m ):\n\u001b[0;32m    869\u001b[0m     \u001b[39mif\u001b[39;00m pending \u001b[39mis\u001b[39;00m \u001b[39mnot\u001b[39;00m \u001b[39mNone\u001b[39;00m:\n\u001b[0;32m    870\u001b[0m         chunk \u001b[39m=\u001b[39m pending \u001b[39m+\u001b[39m chunk\n",
      "File \u001b[1;32mc:\\Users\\62898\\miniconda3\\lib\\site-packages\\requests\\models.py:816\u001b[0m, in \u001b[0;36mResponse.iter_content.<locals>.generate\u001b[1;34m()\u001b[0m\n\u001b[0;32m    814\u001b[0m \u001b[39mif\u001b[39;00m \u001b[39mhasattr\u001b[39m(\u001b[39mself\u001b[39m\u001b[39m.\u001b[39mraw, \u001b[39m\"\u001b[39m\u001b[39mstream\u001b[39m\u001b[39m\"\u001b[39m):\n\u001b[0;32m    815\u001b[0m     \u001b[39mtry\u001b[39;00m:\n\u001b[1;32m--> 816\u001b[0m         \u001b[39myield from\u001b[39;00m \u001b[39mself\u001b[39m\u001b[39m.\u001b[39mraw\u001b[39m.\u001b[39mstream(chunk_size, decode_content\u001b[39m=\u001b[39m\u001b[39mTrue\u001b[39;00m)\n\u001b[0;32m    817\u001b[0m     \u001b[39mexcept\u001b[39;00m ProtocolError \u001b[39mas\u001b[39;00m e:\n\u001b[0;32m    818\u001b[0m         \u001b[39mraise\u001b[39;00m ChunkedEncodingError(e)\n",
      "File \u001b[1;32mc:\\Users\\62898\\miniconda3\\lib\\site-packages\\urllib3\\response.py:623\u001b[0m, in \u001b[0;36mHTTPResponse.stream\u001b[1;34m(self, amt, decode_content)\u001b[0m\n\u001b[0;32m    607\u001b[0m \u001b[39m\"\"\"\u001b[39;00m\n\u001b[0;32m    608\u001b[0m \u001b[39mA generator wrapper for the read() method. A call will block until\u001b[39;00m\n\u001b[0;32m    609\u001b[0m \u001b[39m``amt`` bytes have been read from the connection or until the\u001b[39;00m\n\u001b[1;32m   (...)\u001b[0m\n\u001b[0;32m    620\u001b[0m \u001b[39m    'content-encoding' header.\u001b[39;00m\n\u001b[0;32m    621\u001b[0m \u001b[39m\"\"\"\u001b[39;00m\n\u001b[0;32m    622\u001b[0m \u001b[39mif\u001b[39;00m \u001b[39mself\u001b[39m\u001b[39m.\u001b[39mchunked \u001b[39mand\u001b[39;00m \u001b[39mself\u001b[39m\u001b[39m.\u001b[39msupports_chunked_reads():\n\u001b[1;32m--> 623\u001b[0m     \u001b[39mfor\u001b[39;00m line \u001b[39min\u001b[39;00m \u001b[39mself\u001b[39m\u001b[39m.\u001b[39mread_chunked(amt, decode_content\u001b[39m=\u001b[39mdecode_content):\n\u001b[0;32m    624\u001b[0m         \u001b[39myield\u001b[39;00m line\n\u001b[0;32m    625\u001b[0m \u001b[39melse\u001b[39;00m:\n",
      "File \u001b[1;32mc:\\Users\\62898\\miniconda3\\lib\\site-packages\\urllib3\\response.py:815\u001b[0m, in \u001b[0;36mHTTPResponse.read_chunked\u001b[1;34m(self, amt, decode_content)\u001b[0m\n\u001b[0;32m    812\u001b[0m     \u001b[39mreturn\u001b[39;00m\n\u001b[0;32m    814\u001b[0m \u001b[39mwhile\u001b[39;00m \u001b[39mTrue\u001b[39;00m:\n\u001b[1;32m--> 815\u001b[0m     \u001b[39mself\u001b[39;49m\u001b[39m.\u001b[39;49m_update_chunk_length()\n\u001b[0;32m    816\u001b[0m     \u001b[39mif\u001b[39;00m \u001b[39mself\u001b[39m\u001b[39m.\u001b[39mchunk_left \u001b[39m==\u001b[39m \u001b[39m0\u001b[39m:\n\u001b[0;32m    817\u001b[0m         \u001b[39mbreak\u001b[39;00m\n",
      "File \u001b[1;32mc:\\Users\\62898\\miniconda3\\lib\\site-packages\\urllib3\\response.py:745\u001b[0m, in \u001b[0;36mHTTPResponse._update_chunk_length\u001b[1;34m(self)\u001b[0m\n\u001b[0;32m    743\u001b[0m \u001b[39mif\u001b[39;00m \u001b[39mself\u001b[39m\u001b[39m.\u001b[39mchunk_left \u001b[39mis\u001b[39;00m \u001b[39mnot\u001b[39;00m \u001b[39mNone\u001b[39;00m:\n\u001b[0;32m    744\u001b[0m     \u001b[39mreturn\u001b[39;00m\n\u001b[1;32m--> 745\u001b[0m line \u001b[39m=\u001b[39m \u001b[39mself\u001b[39;49m\u001b[39m.\u001b[39;49m_fp\u001b[39m.\u001b[39;49mfp\u001b[39m.\u001b[39;49mreadline()\n\u001b[0;32m    746\u001b[0m line \u001b[39m=\u001b[39m line\u001b[39m.\u001b[39msplit(\u001b[39mb\u001b[39m\u001b[39m\"\u001b[39m\u001b[39m;\u001b[39m\u001b[39m\"\u001b[39m, \u001b[39m1\u001b[39m)[\u001b[39m0\u001b[39m]\n\u001b[0;32m    747\u001b[0m \u001b[39mtry\u001b[39;00m:\n",
      "File \u001b[1;32mc:\\Users\\62898\\miniconda3\\lib\\socket.py:704\u001b[0m, in \u001b[0;36mSocketIO.readinto\u001b[1;34m(self, b)\u001b[0m\n\u001b[0;32m    702\u001b[0m \u001b[39mwhile\u001b[39;00m \u001b[39mTrue\u001b[39;00m:\n\u001b[0;32m    703\u001b[0m     \u001b[39mtry\u001b[39;00m:\n\u001b[1;32m--> 704\u001b[0m         \u001b[39mreturn\u001b[39;00m \u001b[39mself\u001b[39;49m\u001b[39m.\u001b[39;49m_sock\u001b[39m.\u001b[39;49mrecv_into(b)\n\u001b[0;32m    705\u001b[0m     \u001b[39mexcept\u001b[39;00m timeout:\n\u001b[0;32m    706\u001b[0m         \u001b[39mself\u001b[39m\u001b[39m.\u001b[39m_timeout_occurred \u001b[39m=\u001b[39m \u001b[39mTrue\u001b[39;00m\n",
      "File \u001b[1;32mc:\\Users\\62898\\miniconda3\\lib\\ssl.py:1242\u001b[0m, in \u001b[0;36mSSLSocket.recv_into\u001b[1;34m(self, buffer, nbytes, flags)\u001b[0m\n\u001b[0;32m   1238\u001b[0m     \u001b[39mif\u001b[39;00m flags \u001b[39m!=\u001b[39m \u001b[39m0\u001b[39m:\n\u001b[0;32m   1239\u001b[0m         \u001b[39mraise\u001b[39;00m \u001b[39mValueError\u001b[39;00m(\n\u001b[0;32m   1240\u001b[0m           \u001b[39m\"\u001b[39m\u001b[39mnon-zero flags not allowed in calls to recv_into() on \u001b[39m\u001b[39m%s\u001b[39;00m\u001b[39m\"\u001b[39m \u001b[39m%\u001b[39m\n\u001b[0;32m   1241\u001b[0m           \u001b[39mself\u001b[39m\u001b[39m.\u001b[39m\u001b[39m__class__\u001b[39m)\n\u001b[1;32m-> 1242\u001b[0m     \u001b[39mreturn\u001b[39;00m \u001b[39mself\u001b[39;49m\u001b[39m.\u001b[39;49mread(nbytes, buffer)\n\u001b[0;32m   1243\u001b[0m \u001b[39melse\u001b[39;00m:\n\u001b[0;32m   1244\u001b[0m     \u001b[39mreturn\u001b[39;00m \u001b[39msuper\u001b[39m()\u001b[39m.\u001b[39mrecv_into(buffer, nbytes, flags)\n",
      "File \u001b[1;32mc:\\Users\\62898\\miniconda3\\lib\\ssl.py:1100\u001b[0m, in \u001b[0;36mSSLSocket.read\u001b[1;34m(self, len, buffer)\u001b[0m\n\u001b[0;32m   1098\u001b[0m \u001b[39mtry\u001b[39;00m:\n\u001b[0;32m   1099\u001b[0m     \u001b[39mif\u001b[39;00m buffer \u001b[39mis\u001b[39;00m \u001b[39mnot\u001b[39;00m \u001b[39mNone\u001b[39;00m:\n\u001b[1;32m-> 1100\u001b[0m         \u001b[39mreturn\u001b[39;00m \u001b[39mself\u001b[39;49m\u001b[39m.\u001b[39;49m_sslobj\u001b[39m.\u001b[39;49mread(\u001b[39mlen\u001b[39;49m, buffer)\n\u001b[0;32m   1101\u001b[0m     \u001b[39melse\u001b[39;00m:\n\u001b[0;32m   1102\u001b[0m         \u001b[39mreturn\u001b[39;00m \u001b[39mself\u001b[39m\u001b[39m.\u001b[39m_sslobj\u001b[39m.\u001b[39mread(\u001b[39mlen\u001b[39m)\n",
      "\u001b[1;31mKeyboardInterrupt\u001b[0m: "
     ]
    }
   ],
   "source": [
    "# stream by keywords\n",
    "keywords = ['kanjuruhan']\n",
    "\n",
    "stream_tweet.filter(track=keywords)"
   ]
  },
  {
   "cell_type": "code",
   "execution_count": null,
   "metadata": {},
   "outputs": [],
   "source": []
  }
 ],
 "metadata": {
  "kernelspec": {
   "display_name": "Python 3.9.13 ('base')",
   "language": "python",
   "name": "python3"
  },
  "language_info": {
   "codemirror_mode": {
    "name": "ipython",
    "version": 3
   },
   "file_extension": ".py",
   "mimetype": "text/x-python",
   "name": "python",
   "nbconvert_exporter": "python",
   "pygments_lexer": "ipython3",
   "version": "3.9.13"
  },
  "orig_nbformat": 4,
  "vscode": {
   "interpreter": {
    "hash": "41632ef9d798f4556b5224266033a46b0c26a97e3bd1c24ab94e0405aab5ba56"
   }
  }
 },
 "nbformat": 4,
 "nbformat_minor": 2
}
